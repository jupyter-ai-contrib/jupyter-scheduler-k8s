{
 "cells": [
  {
   "cell_type": "markdown",
   "id": "1",
   "metadata": {},
   "source": [
    "# Test Notebook with Data File\n",
    "This notebook reads data.csv from the same directory."
   ]
  },
  {
   "cell_type": "code",
   "execution_count": null,
   "id": "2",
   "metadata": {},
   "outputs": [],
   "source": [
    "import csv\n",
    "import os\n",
    "\n",
    "print(f\"Current directory: {os.getcwd()}\")\n",
    "print(f\"Files in directory: {os.listdir('.')}\")  "
   ]
  },
  {
   "cell_type": "code",
   "execution_count": null,
   "id": "3",
   "metadata": {},
   "outputs": [],
   "source": [
    "# Read the CSV file\n",
    "with open('data.csv', 'r') as f:\n",
    "    reader = csv.DictReader(f)\n",
    "    data = list(reader)\n",
    "\n",
    "print(\"Data from CSV:\")\n",
    "for row in data:\n",
    "    print(f\"  {row['name']}: {row['value']}\")"
   ]
  },
  {
   "cell_type": "code",
   "execution_count": null,
   "id": "4",
   "metadata": {},
   "outputs": [],
   "source": [
    "# Calculate total\n",
    "total = sum(int(row['value']) for row in data)\n",
    "print(f\"\\nTotal: {total}\")"
   ]
  }
 ],
 "metadata": {
  "kernelspec": {
   "display_name": "Python 3",
   "language": "python",
   "name": "python3"
  },
  "language_info": {
   "name": "python",
   "version": "3.11.0"
  }
 },
 "nbformat": 4,
 "nbformat_minor": 5
}