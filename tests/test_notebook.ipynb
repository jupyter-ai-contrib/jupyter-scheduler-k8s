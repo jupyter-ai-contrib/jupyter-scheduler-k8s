{
 "cells": [
  {
   "cell_type": "markdown",
   "id": "test-1",
   "metadata": {},
   "source": [
    "# Test Notebook\n",
    "Simple test for our K8s notebook executor"
   ]
  },
  {
   "cell_type": "code",
   "execution_count": null,
   "id": "test-2",
   "metadata": {
    "tags": [
     "parameters"
    ]
   },
   "outputs": [],
   "source": "print(\"Hello from container!\")\nresult = 2 + 2\nprint(f\"2 + 2 = {result}\")"
  },
  {
   "cell_type": "code",
   "execution_count": null,
   "id": "test-3",
   "metadata": {},
   "outputs": [],
   "source": "print(\"Test notebook executed successfully!\")"
  }
 ],
 "metadata": {
  "kernelspec": {
   "display_name": "Python 3",
   "language": "python",
   "name": "python3"
  },
  "language_info": {
   "name": "python",
   "version": "3.9.0"
  }
 },
 "nbformat": 4,
 "nbformat_minor": 5
}